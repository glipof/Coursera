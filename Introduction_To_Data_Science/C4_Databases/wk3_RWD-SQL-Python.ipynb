### Working w/ Real World Dataset using SQL and Python

%load_ext sql

# Enter the connection string for your Db2 on Cloud database instance below
# %sql ibm_db_sa://my-username:my-password@my-hostname:my-port/my-db-name
%sql ibm_db_sa://nhm56623:6%2B965gmn1xr7fq6j@dashdb-txn-sbox-yp-dal09-03.services.dal.bluemix.net:50000/BLUDB

# Query DB system catalog to see table metadata
# You can retrieve list of all tables where the schema name is not one of the system created ones:
%sql select TABSCHEMA, TABNAME, CREATE_TIME from SYSCAT.TABLES \
      where TABSCHEMA not in ('SYSIBM', 'SYSCAT', 'SYSSTAT', 'SYSIBMADM', 'SYSTOOLS', 'SYSPUBLIC')
      
# Query DB to retrieve column metadata
%sql select count(*) from SYSCAT.COLUMNS where TABNAME = 'SCHOOLS'

%sql select COLNAME, TYPENAME, LENGTH from SYSCAT.COLUMNS where TABNAME = 'SCHOOLS'


### Questions to Solve

# 1. How many elementary schools are in the dataset?

%sql select count(*) from SCHOOLS where "Elementary, Middle, or High School" = 'ES'

# 2. What is the highest safety score?

%sql select MAX(Safety_Score) AS MAX_SAFETY_SCORE from SCHOOLS

# 3. Schools with highest safety scores?

%sql select Name_of_School, Safety_Score from SCHOOLS where Safety_Score = 99

# 3b. Elementary schools with highest safety scores?

%sql select Name_of_School, Safety_Score from SCHOOLS where \
  Safety_Score= (select MAX(Safety_Score) from SCHOOLS) and \
  "Elementary, Middle, or High School" = 'ES'
  
# 4. What are the top 10 schools w/ highest "Average Student Attendance"?

%sql select Name_of_School, Average_Student_Attendance from SCHOOLS \
    order by Average_Student_Attendance desc nulls last limit 10 

# 5. What are the bottom 5 schools with lowest average attendance?

%sql SELECT Name_of_School, Average_Student_Attendance from SCHOOLS \
     order by Average_Student_Attendance \
     fetch first 5 rows only

%sql select Name_of_School, Average_Student_Attendance from SCHOOLS \
    order by Average_Student_Attendance asc nulls last limit 5
    
# 6. Remove '%' symbol from result set 

%sql SELECT Name_of_School as SCHOOL, REPLACE(Average_Student_Attendance, '%', '') as PERCENT \
     from SCHOOLS \
     order by Average_Student_Attendance \
     fetch first 5 rows only

# 7. Which schools have an average attendance of lower than 70%?

%sql SELECT Name_of_School, Average_Student_Attendance from SCHOOLS \
     where CAST ( REPLACE(Average_Student_Attendance, '%', '') AS DOUBLE ) < 70 \
     order by Average_Student_Attendance

%sql SELECT Name_of_School, Average_Student_Attendance from SCHOOLS \
     where DECIMAL ( REPLACE(Average_Student_Attendance, '%', '') ) < 70 \
     order by Average_Student_Attendance

# 8. Get total college enrollment for each community area

%sql select Community_Area_Name, sum(College_Enrollment) AS TOTAL_ENROLLMENT \
   from SCHOOLS \
   group by Community_Area_Name
   
# 9. Identify 5 communities with lowest college enrollment, sort ascending?

%sql select Community_Area_Name, sum(College_Enrollment) AS TOTAL_ENROLLMENT \
   from SCHOOLS \
   group by Community_Area_Name \
   order by TOTAL_ENROLLMENT asc \
   fetch first 5 rows only
   
# 10. Get hardship index for community with college enrollment of 4638

%%sql select hardship_index from chicago_socioeconomic_data CD, schools CPS \
   where CD.ca = CPS.community_area_number \
      and college_enrollment = 4368

# 11. Get hardship index for community with highest college enrollement

%sql select ca, community_area_name, hardship_index from chicago_socioeconomic_data \
   where ca in \
   ( select community_area_number from schools order by college_enrollment desc limit 1 )