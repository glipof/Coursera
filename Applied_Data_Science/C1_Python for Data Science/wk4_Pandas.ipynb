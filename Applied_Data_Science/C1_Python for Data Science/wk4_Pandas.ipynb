
### Using Pandas


## Loading and Reading Data (loc, iloc)

import pandas as pd 		# can be named something different than pd

file_name = 'file1.csv'
df = pd.read_csv(file_name)	# xlsx files, method is pd.read_excel(file_name)
df.head()					# prints first five rows of df

# loc is label based
df.loc[0, 'Artist']			# Will return 1st record of column 'Artist'
df.loc[1, 'Released']		# Will return 2nd record of column 'Released'

# iloc is integer based for column and rows
df.iloc[0,0]				# Will return 1st row of 1st column
df.iloc[1,2]				# Will return 2nd row of 3rd column

# Can use loc and iloc for creating a new data frame
z = df.loc[0:2, 'Artist':'Released']		# DF w/ 1st three records and column range
z = df/iloc[0:2, 0:3]						# DF w/ 1st two records and 3 columns


## Working With/ Saving Data

# Narrow DF to just distinct data
df['Released'].unique()

# Reduce DF to just records from 1980 and later
df['Released'] >= 1980						# inequality test example, now do in one line

df_80s = df[df['Released'] >= 1980]			# creates new df with only 80s + music

# Once done the file can be saved using
df_80s.to_csv('new_80songs.csv')


## Lab

# Dependency needed to install file 
!pip install xlrd
import pandas as pd

# Read data from CSV file and print first five rows
csv_path = 'https://s3-api.us-geo.objectstorage.softlayer.net/cf-courses-data/CognitiveClass/PY0101EN/Chapter%204/Datasets/TopSellingAlbums.csv'
df = pd.read_csv(csv_path)
df.head()

# Read data from Excel File and print the first five rows
xlsx_path = 'https://s3-api.us-geo.objectstorage.softlayer.net/cf-courses-data/CognitiveClass/PY0101EN/Chapter%204/Datasets/TopSellingAlbums.xlsx'
df = pd.read_excel(xlsx_path)
df.head()

# Access to the column Length
x = df[['Length']]
x

# Access to multiple columns
y = df[['Artist','Length','Genre']]
y

# Slicing the dataframe
df.iloc[0:2, 0:3]
df.loc[0:2, 'Artist':'Released']









