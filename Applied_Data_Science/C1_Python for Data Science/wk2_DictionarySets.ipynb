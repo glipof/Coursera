
### Data Structures

## Part 3 - Dictionaries use curly brackets {}

# Create the dictionary
Dict = {"key1": 1, "key2": "2", "key3": [3, 3, 3], "key4": (4, 4, 4), ('key5'): 5, (0, 1): 6}
Dict

# Access to the value by the key = 1
Dict["key1"]

# Access to the value by the key = 6 / note the key is a tuple (0, 1)
Dict[(0, 1)]

# Create a sample dictionary
release_year_dict = {"Thriller": "1982", "Back in Black": "1980", \
                    "The Dark Side of the Moon": "1973", "The Bodyguard": "1992", \
                    "Bat Out of Hell": "1977", "Their Greatest Hits (1971-1975)": "1976", \
                    "Saturday Night Fever": "1977", "Rumours": "1977"}
release_year_dict

# Get value by keys
release_year_dict['Thriller'] 		# '1982'
release_year_dict['The Bodyguard'] 	# '1992'

# Get all the keys in dictionary
release_year_dict.keys() 

# Get all the values in dictionary
release_year_dict.values() 

# Append value with key into dictionary
release_year_dict['Graduation'] = '2007'
release_year_dict

# Delete entries by key
del(release_year_dict['Thriller'])
del(release_year_dict['Graduation'])
release_year_dict

# Verify the key is in the dictionary, Returns = True
'The Bodyguard' in release_year_dict


# Exercises on Dictionaries

# In the dictionary soundtrack_dict what are the keys ?
soundtrack_dic = {"The Bodyguard":"1992", "Saturday Night Fever":"1977"}
soundtrack_dic 
soundtrack_dic.keys() # The Keys "The Bodyguard" and "Saturday Night Fever" 

# In the dictionary soundtrack_dict what are the values ?
soundtrack_dic.values() # The values are "1992" and "1977"

# Create album disctionary with three items
album_sales_dict = {"The Bodyguard":50, "Back in Black":50, "Thriller":65}
album_sales_dict

# Use the dictionary to find the total sales of Thriller = 65
album_sales_dict["Thriller"]

# Find the names of the albums from the dictionary
album_sales_dict.keys()

# Find the names of the recording sales from the dictionary 
album_sales_dict.values()


## Part 4 - Sets

# Like dictionaries, but no order/ positioning. Good for use in Ven Diagrams

# Create a set
set1 = {"pop", "rock", "soul", "hard rock", "rock", "R&B", "rock", "disco"}
set1

# Convert list to set
album_list = [ "Michael Jackson", "Thriller", 1982, "00:42:19", \
              "Pop, Rock, R&B", 46.0, 65, "30-Nov-82", None, 10.0]
album_set = set(album_list)             
album_set

# Convert list to set
music_genres = set(["pop", "pop", "rock", "folk rock", "hard rock", "soul", \
                    "progressive rock", "soft rock", "R&B", "disco"])
music_genres


# Set Operations

# Sample set
A = set(["Thriller", "Back in Black", "AC/DC"])
A

# Add element to set
A.add("NSYNC")
A

# Try to add duplicate element to the set, note the returned value does not change
A.add("NSYNC")
A

# Remove the element from set
A.remove("NSYNC")
A


# Set Logic Operations (Ven Diagram)

# Sample Sets
album_set1 = set(["Thriller", 'AC/DC', 'Back in Black'])
album_set2 = set([ "AC/DC", "Back in Black", "The Dark Side of the Moon"])

# Print the two sets
album_set1, album_set2

# Find the intersections (where the two circles overlap)
intersection = album_set1 & album_set2
intersection

# or

intersection = album_set1.intersection(album_set2)  
intersection

# Find the difference in set1 but not set2, and the reverse
album_set1.difference(album_set2) 
album_set2.difference(album_set1) 

# Find the union of two sets (add the two together)
album_set1.union(album_set2)

# Check if superset or subset, both return False
set(album_set1).issuperset(album_set2)  
set(album_set2).issubset(album_set1)    

# Check if superset/ subset, both return True
set({"Back in Black", "AC/DC"}).issubset(album_set1) 
album_set1.issuperset({"Back in Black", "AC/DC"}) 
