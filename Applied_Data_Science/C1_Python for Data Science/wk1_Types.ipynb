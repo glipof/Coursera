
### Writing first Python code

# Try your first Python output
print('Hello, Python!')

# Check the Python Version
import sys
print(sys.version)

# Practice on writing comments
print('Hello, Python!') # This is an inline comment for printing a string
# print('Hi')

# See error message for syntax
frint("Hello, Python!") # Bad function
print("Hello, Python!)  # Bad string

# Print string and error to see the running order
print("This will be printed")
frint("This will cause an error")
print("This will NOT be printed")


### Now work with Type objects

# Integer
11

# Float
2.14

# String
"Hello, Python 101!"

# Discovering Type
type(12)   # Returns int
type(2.14) # Returns float
type("Hello, Python 101!") # Returns str
type(12.0) # Returns float

# System settings about float type
sys.float_info

# Converting one object type to another type - aka typecasting

# Convert 2 from int to a float
float(2)

# Convert integer 2 to a float and check its type
type(float(2))

# Casting 1.1 to integer will result in loss of information
int(1.1)

# Convert a string into an integer with error
int('1 or 2 people')

# Convert an integer to a string
str(1)

# Convert a float to a string
str(1.2)

# Boolean data type, True or False
True  # Value returned is True
False # Value returned is False

# Discovering data type returns bool
type(True)
type(False)

# Convert bool to int and back (1 = True; 0 = False)
int(True)
bool(1)

# Convert bool to float and back
float(False)
bool(0.00)


### Exercises (Types)

type(6/2) # Should return float

type(6//2) # Should return int, as the double slashes stand for integer division 


### Expressions & Variables

# Addition operation expression
43 + 60 + 16 + 41 # Returns 160

# Subtraction operation expression
50 - 60		# Returns -10

# Multiplication operation expression
5 * 5		# Returns 25

# Division operation expression
25 / 5		# Returns 5.0
25 / 6		# Returns 4.166666667
25 // 5		# Returns 5
25 // 6		# Returns 4


### Exercises (Expression)

# Calculate 160 minutes into hours
160/60 		# Returns 2.6666665
160//60		# Returns 2

# Mathematical expression
30 + 2 * 60		# Returns 150
(30 + 2) * 60	# Returns 1920


### Using Variables

# Store value into variable, and print
x = 43 + 60 + 16 + 41
x

# Overwrite variable with new value
x = x / 60
x

# Name the variables meaningfully
total_min = 43 + 42 + 57 # Total length of albums in minutes, 142
total_min

# Name the variables meaningfully
total_hours = total_min / 60 # Total length of albums in hours, 2.366667
total_hours

# Exercise (Expression + Variables Combined)

x = 3 + 2 * 2		# 7
y = (3 + 2) * 2		# 10
z = x + y			# 17



