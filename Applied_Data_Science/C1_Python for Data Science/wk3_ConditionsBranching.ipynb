
### Conditions, Branching & Loops

## Part 1 - Conditions

# Condition Equal
a = 5
a == 6		# False

# Greater than/ Less than Sign
i = 6
i > 5		# True
i < 5		# False

# Inequality Sign, Does not equal
i = 2
i != 6		# True

# Use Equality/ Inequality signs to compare the strings
"ACDC" == "Michael Jackson"		# False
"ACDC" != "Michael Jackson"		# True

# Compare characters
'B' > 'A'		# True
'BA' > 'AB'		# True


## Part 2 - Branching

# If w/ Elif and Else statment example

age = 18

if age > 18:
    print("you can enter" )
elif age == 18:
    print("go see Pink Floyd")
else:
    print("go see Meat Loaf" )
    
print("move on")


# Condition statement example

album_year = 1980

if(album_year > 1979) and (album_year < 1990):
    print ("Album year was in between 1980 and 1989")
    
print("")
print("Do Stuff..")


# Condition statement example

album_year = 1990

if(album_year < 1980) or (album_year > 1989):
    print ("Album was not made in the 1980's")
else:
    print("The Album was made in the 1980's ")


# Condition statement example

album_year = 1983

if not (album_year == '1984'):
    print ("Album year is not 1984")
    
    

## Part 3 - Loops (For/ While)  

# For loop example

dates = [1982,1980,1973]
N = len(dates)

for i in range(N):
    print(dates[i])   


# or

for i in range(0, 8):
    print(i)


# Loop to change elements in a list

# Use for loop to change the elements in list

squares = ['red', 'yellow', 'green', 'purple', 'blue']

for i in range(0, 5):
    print("Before square ", i, 'is',  squares[i])
    squares[i] = 'weight'
    print("After square ", i, 'is',  squares[i])


# Loop through the list and iterate on both index and element value

squares=['red', 'yellow', 'green', 'purple', 'blue']

for i, square in enumerate(squares):
    print(i, square)


# While Loop Examples

dates = [1982, 1980, 1973, 2000]

i = 0
year = 0

while(year != 1973):
    year = dates[i]
    i = i + 1
    print(year)

print("It took ", i ,"repetitions to get out of loop.")


