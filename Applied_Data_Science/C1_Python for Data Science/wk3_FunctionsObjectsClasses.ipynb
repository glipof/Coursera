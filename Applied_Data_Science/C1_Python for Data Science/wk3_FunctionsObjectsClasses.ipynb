
### Functions, Objects & Classes


## Part 1 - Functions (similar to Methods)

# First function example: Add 1 to a and store as b
def add(a):
    b = a + 1
    print(a, "if you add one", b)
    return(b)

# Get a help on add function
help(add)

# Call the function add()
add(1)

# Define a function for multiple two numbers
def Mult(a, b):
    c = a * b
    return(c)

# Use mult() multiply two integers
Mult(2, 3)						# Returns 6

# Use mult() multiply two floats
Mult(10.0, 3.14)				# Returns 31.400000000000002

# Use mult() multiply two different type values together
Mult(2, "Michael Jackson ")		# Returns 'Michael Jackson Michael Jackson '


# Function Definition w/ Variables

def square(a):
    # Local variable b
    b = 1
    c = a * a + b
    print(a, "if you square + 1", c) 
    return(c)

# Initializes Global variable  
x = 3
# Makes function call and return function a y
y = square(x)
y


# Functions can make calculations simpler

# Use same equation for different values

def Equation(a,b):
    c = a + b + 2 * a * b - 1
    if(c < 0):
        c = 0 
    else:
        c = 5
    return(c) 

print(Equation(4,5))		# Returns 5
print(Equation(0,0))		# Returns 0


# Pre-defined fuunctions

album_ratings = [10.0, 8.5, 9.5, 7.0, 7.0, 9.5, 9.0, 9.5] 
print(album_ratings)

# Use sum() to add every element in a list or tuple together
sum(album_ratings)

# Show the length of the list or tuple
len(album_ratings)



## Part 2 - Objects and Classes

# Import the library to draw objects
import matplotlib.pyplot as plt
%matplotlib inline  


# Create a class Circle

class Circle(object):
    
    # Constructor
    def __init__(self, radius=3, color='blue'):
        self.radius = radius
        self.color = color 
    
    # Method
    def add_radius(self, r):
        self.radius = self.radius + r
        return(self.radius)
    
    # Method
    def drawCircle(self):
        plt.gca().add_patch(plt.Circle((0, 0), radius=self.radius, fc=self.color))
        plt.axis('scaled')
        plt.show()      
    
# Create an object RedCircle using the class Circle
RedCircle = Circle(10, 'red')

# Find out the methods can be used on the object RedCircle
dir(RedCircle)	# Note internal methods have "__", you can ignore them

# Print the object attribute radius & color
RedCircle.radius
RedCircle.color

# Set the object attribute radius
RedCircle.radius = 1
RedCircle.radius

# Call the method drawCircle
RedCircle.drawCircle()

# Use method to change the object attribute radius
print('Radius of object:',RedCircle.radius)
RedCircle.add_radius(2)
print('Radius of object of after applying the method add_radius(2):',RedCircle.radius)
RedCircle.add_radius(5)
print('Radius of object of after applying the method add_radius(5):',RedCircle.radius)