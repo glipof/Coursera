
### Reading and Writing Files


## Reading and Working with Files

# Download Example file
!wget -O /resources/data/Example1.txt https://s3-api.us-geo.objectstorage.softlayer.net/cf-courses-data/CognitiveClass/PY0101EN/labs/example1.txt

# Read the Example1.txt
example1 = "/resources/data/Example1.txt"
file1 = open(example1, "r")

# Print the path of file
file1.name

# Print the mode of file, either 'r' or 'w'
file1.mode

# Read the file
FileContent = file1.read()
FileContent

# Print the file with '\n' as a new line
print(FileContent)

# Type of file content
type(FileContent)

# Close file after finish
file1.close()


## A better way to Open a file

# Open file using 'with'
with open(example1, "r") as file1:
    FileContent = file1.read()
    print(FileContent)

# Verify if the file is closed
file1.closed

# See the content of file
print(FileContent)

# We can also, 'Read' first four characters
with open(example1, "r") as file1:
    print(file1.read(4))

# Read certain amount of characters
with open(example1, "r") as file1:
    print(file1.read(4))
    print(file1.read(4))
    print(file1.read(7))
    print(file1.read(15))

# Read one line
with open(example1, "r") as file1:
    print("first line: " + file1.readline())

# Iterate through the lines
with open(example1,"r") as file1:
        i = 0;
        for line in file1:
            print("Iteration", str(i), ": ", line)
            i = i + 1;

# Read all lines and save as a list
with open(example1, "r") as file1:
    FileasList = file1.readlines()

# Print the first and third line
FileasList[0]
FileasList[2]


## Write and Save Files with Open

# Create and write line to file
with open('/resources/data/Example2.txt', 'w') as writefile:
    writefile.write("This is line A")

# Read file, should return "This is line A"
with open('/resources/data/Example2.txt', 'r') as testwritefile:
    print(testwritefile.read())

# Write lines to file
with open('/resources/data/Example2.txt', 'w') as writefile:
    writefile.write("This is line A\n")
    writefile.write("This is line B\n")

# Write a new line to text file
with open('/resources/data/Example2.txt', 'a') as testwritefile:
    testwritefile.write("This is line C\n")
    
# Check whether write to file
with open('/resources/data/Example2.txt', 'r') as testwritefile:
    print(testwritefile.read())

# Create a list of text, write them to file and verify
Lines = ["This is line A\n", "This is line B\n", "This is line C\n"]

with open('Example2.txt', 'w') as writefile:
    for line in Lines:
        print(line)
        writefile.write(line)

with open('Example2.txt', 'r') as testwritefile:
    print(testwritefile.read())


# Copy file to another and read
with open('Example2.txt','r') as readfile:
    with open('Example3.txt','w') as writefile:
          for line in readfile:
                writefile.write(line)

with open('Example3.txt','r') as testwritefile:
    print(testwritefile.read())






