
### Using Numpy (Scientific Computing, see numpy.org)



## One Dimensional

import numpy as np

# Array (similar to list, but faster)
my_array = np.array([0,1,2,3,4])

# Change 1st element
my_array[0] = 100 		# Changes from 0 to 100

# Slice array to only include elements 3-5
new_array = my_array [2:4]

# Can use math functions like pi, sin, cos...
x = np.array([0, np.pi/2, np.pi])
y = np.sin(x)			# Applies sine to each value in array, 1st value = 'sin(0)'

# Can create data using linspace, which accepts a range and num of elements to generate
np.linspace (-2, 2, num=9)		# Generates 9 elements from -2 to 2, i.e. -1.5, -1...

# Can plot math functions using matplotlib
x = np.linspace(0, 2*np.pi, 100)
y = np.sin(x)

import matplotlib.pyplot as plt
%matplotlib inline
plt.plot(x,y)			# Generates a sine wave graph




## Two Dimensional

# Create a list and cast as numpy multi dimensional array
a = [[11,12,13], [21,22,23], [31,32,33]]
A = np.array(a)		# Creates a nested array
A.shape:			# Returns a tuple (3,3)

# Linear algebra applies when multiplying two arrays of inverted num of columns/ rows
A = np.array([[0,1,1], [1,0,1]])
B = np.array([[1,1], [1,1], [-1,1]])
C = np.dot(A,B);	# Returns C:array([[0,0], [0,2]])













