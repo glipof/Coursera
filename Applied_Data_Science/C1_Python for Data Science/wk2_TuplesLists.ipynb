
### Data Structures

## Part 1 - Tuples use Parenthesis ()

# Dataset has rows for each movie w/ artist, album, released, length, genre, sales...

# Create your first tuple and print type
tuple1 = ("disco",10,1.2 )
tuple1
type(tuple1)

# Print the variable on each index
print(tuple1[0])
print(tuple1[1])
print(tuple1[2])

# Print the type of value on each index
print(type(tuple1[0]))	# str
print(type(tuple1[1]))	# int
print(type(tuple1[2]))	# float

# Use negative index to get the value of the last element
tuple1[-1]		# should return 1.2

# Use negative index to get the value of the second last element
tuple1[-2]		# should return 10

# Concatenate two tuples, should return = ('disco', 10, 1.2, 'hard rock', 10)
tuple2 = tuple1 + ("hard rock", 10)
tuple2

# Slice from index 0 to index 2, should return = ('disco', 10, 1.2)
tuple2[0:3]

# Get the length of tuple = 5
len(tuple2)


# Sorting Tuples

# A sample new sample tuple that is then sorted and printed
Ratings = (0, 9, 6, 5, 10, 8, 9, 6, 2)
RatingsSorted = sorted(Ratings)
RatingsSorted


# Nesting Tuples

# Create a nest tuple
NestedT =(1, 2, ("pop", "rock") ,(3,4),("disco",(1,2)))

# Print element on each index
print("Element 0 of Tuple: ", NestedT[0])	# 1
print("Element 1 of Tuple: ", NestedT[1])	# 2
print("Element 2 of Tuple: ", NestedT[2])	# ('pop', 'rock')
print("Element 3 of Tuple: ", NestedT[3])	# (3, 4)
print("Element 4 of Tuple: ", NestedT[4])	# ('disco', (1, 2))

# Print element on each index, including nest indexes
print("Element 2, 0 of Tuple: ",   NestedT[2][0])	# pop
print("Element 2, 1 of Tuple: ",   NestedT[2][1])	# rock
print("Element 3, 0 of Tuple: ",   NestedT[3][0])	# 3
print("Element 3, 1 of Tuple: ",   NestedT[3][1])	# 4
print("Element 4, 0 of Tuple: ",   NestedT[4][0])	# disco
print("Element 4, 1 of Tuple: ",   NestedT[4][1])	# (1, 2)

# Print the first element in the second nested tuples
NestedT[2][1][0] 	# should return 'r'
NestedT[2][1][1]	# should return 'o' for second element in the second nested tuples


# Exercise on Tuples

# sample tuple
genres_tuple = ("pop", "rock", "soul", "hard rock", "soft rock", \
                "R&B", "progressive rock", "disco") 
genres_tuple

# Find the length of the tuple, genres_tuple
len(genres_tuple)

# Access the element, with respect to index 3
genres_tuple[3]

# Use slicing to obtain indexes 3, 4 and 5
genres_tuple[3:6]

# Find 1st two elements of the tuple
genres_tuple[0:2]

# Find where index for "disco", should return 7
genres_tuple.index("disco")

# Generate a sorted List from the Tuple C_tuple=(-5, 1, -3)
C_tuple = (-5, 1, -3)
C_sorted = sorted(C_tuple)
C_list = list(C_sorted)
C_list


## Part 2 - Lists use brackets []

# Like tuples, but mutable/ changeable. Dataset is same as w/ tuples example

# Create a list
L = ["Michael Jackson", 10.1, 1982]
L

# Print the elements on each index
print('the same element using negative and positive indexing:\n Postive:',L[0],
'\n Negative:' , L[-3]  )
print('the same element using negative and positive indexing:\n Postive:',L[1],
'\n Negative:' , L[-2]  )
print('the same element using negative and positive indexing:\n Postive:',L[2],
'\n Negative:' , L[-1]  )

# List operations, slicing
L = ["Michael Jackson", 10.1,1982,"MJ",1]
L[3:5]		# should return ['MJ', 1]

# Extend to add elements to list
L = [ "Michael Jackson", 10.2]
L.extend(['pop', 10])
L

# Use append to add elements to list, i.e. they are nested within the added element
L = [ "Michael Jackson", 10.2]
L.append(['pop', 10])
L

# Split the string, default is by space - creates list with ['hard', 'rock']
'hard rock'.split()

# Split the string by comma
'A,B,C,D'.split(',')

# Copy (copy by reference) the list A
A = ["hard rock", 10, 1.2]
B = A
print('A:', A)
print('B:', B)

# Examine the copy by reference
print('B[0]:', B[0])
A[0] = "banana"
print('B[0]:', B[0])

# Clone (clone by value) the list A, so changes do not affect either
B = A[:]
B

# Now if you change A, B does not change (and vice versa)
print('B[0]:', B[0])
A[0] = "hard rock"
print('B[0]:', B[0])


# Exercise on Lists

# Create a list and find value stored at index 1 (should return 'hello')
a_list = [1, 'hello', [1, 2, 3] , True]
a_list
a_list[1]

# Retrieve elements stored at index 1, 2 and 3
a_list[1:4]

# Concatenate the following lists A = [1, 'a'] and B = [2, 1, 'd']
A = [1, 'a'] 
B = [2, 1, 'd']
A + B


