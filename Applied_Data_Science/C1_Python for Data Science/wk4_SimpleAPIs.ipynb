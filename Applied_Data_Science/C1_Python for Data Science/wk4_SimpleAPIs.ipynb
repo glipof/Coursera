
### Using Simple APIs (REST, Speech to Text & Translation)



## Part 1 - REST API Example

# Get Teams from NBA REST API
from nba_api.stats.static import teams
nba_teams = teams.get_teams()
nba_teams[:5]			# Returns first five records

# Convert Dictionary and then to Data Frame
import pandas pd

def one_dict(list_dict):
	keys = list_dict[0].keys()
	out_dict = {key:[] for key in keys}
	for dict_ in list_dict:
		for key, value in dict_.items():
			out_dict[key].append(value)
	return out_dict
	
dict_nba_team = one_dict(nba_teams)

df_teams = pd.DataFrame(dict_nba_team)
df_teams.head()



## Part 2 - Artificial Intelligence (Speech to Text/ Translation)

# Setup Watson S2T Access
from ibm_watson import SpeechToTextV1
url_s2t = 'https://stream.watsonplatform.net/speech-to-text/api'
iam_apikey_s2t = 'somestringgoeshere'

s2t = SpeechToTextV1(iam_apikey = iam_apikey_s2t, url = url_s2t)

# Access file
filename = 'the_audio_filename.wav'
with open (filename, mode = "rb") as wav:
	response = s2t.recognize (audio=wav, content_type = 'audio/wav')

response.result


# Now Translate Text
from ibm_watson import LanguageTranslatorV3
url_lt = 'https://gateway.watsonplatform.net/language-translator/api'
apikey_lt = 'somestringgoeshere'
version_lt = '2018-05-01'

lt = LanguageTranslatorV3 (iam_apikey = apikey_lt, url = url_lt, version = version_lt) 

lt.list_identifiable_languages().get_result() 	# Returns list of languages w/ identifiers

text_before = 'hello this is python'

lt_response = lt.translate(text = text_before, model_id = 'en-es')

translation = lt_response.get_result()		# Return is a dictionary

es_translation = translation['translations'][0]['translation']
es_translation			# Should return 'Hola, esta es la piton.'


## Part 3 - Watson Credentials

# Speech to Text
{
      "apikey": "ZMk8SuHsmSyoy4frs6ChLbkSVz-z2PeQJuRFUhLczhx5",
      "iam_apikey_description": "Auto-generated for key a496ad82-2130-422b-a646-fd768c501f72",
      "iam_apikey_name": "Python Course",
      "iam_role_crn": "crn:v1:bluemix:public:iam::::serviceRole:Writer",
      "iam_serviceid_crn": "crn:v1:bluemix:public:iam-identity::a/c348aee0258e9b9e712efdbe2df2f425::serviceid:ServiceId-eed22936-5a15-4baf-88f3-5702f5dc8eda",
      "url": "https://api.us-south.speech-to-text.watson.cloud.ibm.com/instances/57225310-d50c-47c6-9e13-812e9c0bc1ff",
}

# Language Translator
{
      "apikey": "ThC_2CyojNC3PVcuyDH66nN63jlc76dn6aEWN9Tsm7rV",
      "iam_apikey_description": "Auto-generated for key 11a01188-3640-4582-9cb1-038dc431ab77",
      "iam_apikey_name": "Python Data Science",
      "iam_role_crn": "crn:v1:bluemix:public:iam::::serviceRole:Writer",
      "iam_serviceid_crn": "crn:v1:bluemix:public:iam-identity::a/c348aee0258e9b9e712efdbe2df2f425::serviceid:ServiceId-3594c4be-9a65-4644-b1b3-0b36947b3163",
      "url": "https://api.us-south.language-translator.watson.cloud.ibm.com/instances/29a23dd6-0900-4309-b742-748c26cacaf2",
}







