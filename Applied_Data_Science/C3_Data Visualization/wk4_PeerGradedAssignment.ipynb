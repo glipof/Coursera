

## --- Data Visualization : Peer Graded Final Assignment


# Project Title = Visualization Analysis using Python


## Task 1 = Download CSV as DF and Display Survey Results

import numpy as np  # useful for many scientific computing in Python
import pandas as pd # primary data structure library

# Read the online file by the URL provides above, and assign it to variable "df"
file_path = "https://cocl.us/datascience_survey_data/Topic_Survey_Assignment.csv"
df_survey = pd.read_csv(file_path, sep=',', index_col=0)

# display data frame content
df_survey

# Upload screenshot of df_survey to Coursera



## Task 2 = Create Bar Chart

# First import Matplotlib
%matplotlib inline 

import matplotlib as mpl
import matplotlib.pyplot as plt
print ('Matplotlib version: ', mpl.__version__)

# sort df in descending of 'Very interested'
df_survey.sort_values(['Very interested'], ascending=False, axis=0, inplace=True)

df_survey

# convert into percentages with two decimal places
df_percent = (df_survey/2233)*100
df_percent = round(df_percent,2)

df_percent

# create chart w/ the following:
	# - figure size (20,8), bar width .8, 
	# - color #5cb85c (VI), #5bc0de (SI), #d9534f (NI),
	# - font 14 for bar labels, percentages and legend
	# - font 16 for title
	# - display percentages above bars
	# - remove left, top and right borders

# Create bar chart based on conditions described
ax = df_percent.plot(kind='bar', figsize=(20, 8), width=0.8, color=['#5cb85c', '#5bc0de', '#d9534f'], fontsize=14, edgecolor=None)
plt.title("Percentage of Respondents Interest in Data Science Areas", size=16)
plt.legend(fontsize=14)
plt.gca().spines['left'].set_color('none')
plt.gca().spines['right'].set_color('none')
plt.gca().spines['top'].set_color('none')
plt.yticks([])

# Add this loop to annotate percentages
for p in ax.patches:
    width, height = p.get_width(), p.get_height()
    x, y = p.get_xy() 
    ax.annotate('{:.2%}'.format(height/100), (p.get_x()+.5*width, p.get_y() + height + 0.01), ha = 'center')

plt.show()

# Upload screenshot of Bar Chart to Coursera



## Task 3 - Create Dataframe for Choropleth Map to Visualize Crime in San Francisco

# Create a DF that lists each neighborhood (Central, Southern, Bayview, Mission...) along with corresponding total crimes

# Read the csv file and convert to dataframe
df_incidents = pd.read_csv('https://cocl.us/sanfran_crime_dataset')

print('Dataset downloaded and read into a pandas dataframe!')
df_incidents.head()

# Create DF with Neighborhood Totals
df_neighborhoods = df_incidents.groupby('PdDistrict')['PdId'].count().reset_index()
df_neighborhoods.rename(columns={'PdDistrict':'Neighborhood', 'PdId':'Count'}, inplace=True)
df_neighborhoods

# Upload screenshot of df_neighborhoods to Coursera



## Task 4 - Create Choropleth Map

	# centered on San Francisco,
	# zoom level of 12,
	# fill_color = 'YlOrRd',
	# fill_opacity = 0.7,
	# line_opacity=0.2, and,
	# define a legend and use the default threshold scale.

!conda install -c conda-forge folium=0.5.0 --yes
import folium

print('Folium installed and imported!')

# download the geojson file
!wget --quiet https://cocl.us/sanfran_geojson -O sanfran_geo.json
    
print('GeoJSON file downloaded!')

# center on san francisco
sf_geo = r'sanfran_geo.json' # geojson file

# San Francisco latitude and longitude values
latitude = 37.77
longitude = -122.42

# create a plain world map
sanfran_map = folium.Map(location=[latitude, longitude], zoom_start=12)

# generate choropleth map
sanfran_map.choropleth(
    geo_data=sf_geo,
    data=df_neighborhoods,
    columns=['Neighborhood', 'Count'],
    key_on='feature.properties.DISTRICT',
    fill_color='YlOrRd', 
    fill_opacity=0.7, 
    line_opacity=0.2,
    legend_name='Crime Rate in San Fransisco'
)

# display map
sanfran_map










