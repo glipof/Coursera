
### Data Visualizations

# Specifically Matplotlib, Seaborn and Folium

# For exploratory data analysis
# Communicate data clearly
# Share unbiased representation data
# Support recommendations

# Less is more effective, attractive and impactive


## Introduction

# Putting Artist Layer to Use (agg = anti-grain geometry)

from matplotlib.backends.backend_agg import FigureCanvasAgg as FigureCanvas
from matplotlib.figure import Figure 	# This is the Figure Artist

fig = Figure()
canvas = FigureCanvas(fig)

import numpy as np
x = np.random.randn(1000)	# create 1000 random numbers using numpy

ax = fig.add_subplot(111)	# create axes artist, 111 = 1 row, 1 column and 1st cell for location

ax.hist(x, 100)				# generate histogram of  x (1000 numbers) using 100 bins

ax.set_title('Normal Distribution with $\mu=0, \sigma=1$')
fig.savefig('matplotlib_histogram.png')


# Above can be done more succinctly using pyplot:

import matplotlib.pyplot as plt
import numpy as np

x = np.random.randn(1000)
plt.hist(x, 100)
plt.title(r'Normal Distribution with $\mu=0, \sigma=1$')
plt.savefig('matplotlib_histogram.png')
plt.show()



## Basic Plotting w/ Matplotlib

# Simple Plot Function
%matplotlib inline	
import matplotlib.pyplot as plt

plt.plot(5, 5, 'o')
ply.show()

# if using "%matplotlib notebook"", instead of inline, then below applied to existing rendered figures
plt.ylabel("Y")
plt.xlabel("X")
plt.title("Plotting Example")


# Pandas has built-in plotting capability
df_india_china.plot(kind="line")
df_india_china["India"].plot(kind="hist")


## Datasets on Immigration to Canada

import numpy as np
import pandas as pd
from __future__ import print_function # adds compatibility to python 2

# install xlrd
!pip install xlrd
print('xlrd installed')

df_can = pd.read_excel(
	'https://ibm.box.com/shared/static/lw190pt9zpy5bd1ptyg2aw15awomz9pu.xlsx',
	sheetname = "Canada by Citizenship",
	skiprows = range(20),
	skip_footer = 2)
df_can.head()


# Line Plots

import matplotlib as mpl
import matplotlib.pyplot as plt

years = list(map(str, range(1980, 2014)))
# convert df_can to df_canada to drop bogus columns and add total column

df_canada.loc['Haiti', years].plot(kind = 'line')
plt.title('Immigration from Haiti')
plt.ylabel('Num of Immigrants')
plt.xlabel('Years')
plt.show()



## Part 1 = Lab for Matplotlib and Line Plots

import numpy as np  # useful for many scientific computing in Python
import pandas as pd # primary data structure library

df_can = pd.read_excel('https://s3-api.us-geo.objectstorage.softlayer.net/cf-courses-data/CognitiveClass/DV0101EN/labs/Data_Files/Canada.xlsx',
                       sheet_name='Canada by Citizenship',
                       skiprows=range(20),
                       skipfooter=2)

print ('Data read into a pandas dataframe!')

# Useful functions 
df_can.head()
df_can.tail()
df_can.info()
df_can.columns.values 
df_can.index.values

# Explore column values, note they are not list type
print(type(df_can.columns))
print(type(df_can.index))

# Convert to list
df_can.columns.tolist()
df_can.index.tolist()

print (type(df_can.columns.tolist()))
print (type(df_can.index.tolist()))

# size of dataframe (rows, columns)
df_can.shape  

# --- Clean the data set (remove columns, rename and sum total immigration)

# in pandas axis=0 represents rows (default) and axis=1 represents columns.
df_can.drop(['AREA','REG','DEV','Type','Coverage'], axis=1, inplace=True)
df_can.head(2)

df_can.rename(columns={'OdName':'Country', 'AreaName':'Continent', 'RegName':'Region'}, inplace=True)
df_can.columns

df_can['Total'] = df_can.sum(axis=1)

df_can.isnull().sum()

df_can.describe()

# --- Indexing and Selection (slicing)

df_can.Country  # returns a series

df_can[['Country', 1980, 1981, 1982, 1983, 1984, 1985]] # returns a dataframe
# notice that 'Country' is string, and the years are integers. 
# for the sake of consistency, we will convert all column names to string later on.

# Select Row

df_can.set_index('Country', inplace=True)
# tip: The opposite of set is reset. So to reset the index, we can use df_can.reset_index()

df_can.head(3)

# optional: to remove the name of the index
df_can.index.name = None

# Inspect data for Japan

# 1. the full row data (all columns)
print(df_can.loc['Japan'])

# alternate methods
print(df_can.iloc[87])
print(df_can[df_can.index == 'Japan'].T.squeeze())

# 2. for year 2013
print(df_can.loc['Japan', 2013])

# alternate method
print(df_can.iloc[87, 36]) # year 2013 is the last column, with a positional index of 36

# 3. for years 1980 to 1985
print(df_can.loc['Japan', [1980, 1981, 1982, 1983, 1984, 1984]])
print(df_can.iloc[87, [3, 4, 5, 6, 7, 8]])

# Convert column names (years) into strings

df_can.columns = list(map(str, df_can.columns))
# [print (type(x)) for x in df_can.columns.values] #<-- uncomment to check type of column headers

# useful for plotting later on
years = list(map(str, range(1980, 2014)))
years

# --- Filtering based on criteria

# 1. create the condition boolean series
condition = df_can['Continent'] == 'Asia'
print(condition)

# 2. pass this condition into the dataFrame
df_can[condition]

# we can pass mutliple criteria in the same line. 
# let's filter for AreaNAme = Asia and RegName = Southern Asia

df_can[(df_can['Continent']=='Asia') & (df_can['Region']=='Southern Asia')]

# note: When using 'and' and 'or' operators, pandas requires we use '&' and '|' instead of 'and' and 'or'
# don't forget to enclose the two conditions in parentheses

print('data dimensions:', df_can.shape)
print(df_can.columns)
df_can.head(2)


## Part 2 = Lab Visualizing Data using Matplotlib

# we are using the inline backend
%matplotlib inline 

import matplotlib as mpl
import matplotlib.pyplot as plt

print(plt.style.available)
mpl.style.use(['ggplot']) # optional: for ggplot-like style


# Line Plots (Series/ Dataframe)


# Question 1 - Plot a line graph of immigration from Haiti 
haiti = df_can.loc['Haiti', years] # passing in years 1980 - 2013 to exclude the 'total' column
haiti.head()

haiti.plot()

# Add labels and title
haiti.index = haiti.index.map(int) # let's change the index values of Haiti to type integer for plotting
haiti.plot(kind='line')

plt.title('Immigration from Haiti')
plt.ylabel('Number of immigrants')
plt.xlabel('Years')

plt.show() # need this line to show the updates made to the figure

# Add note about earthquake in 2010
haiti.plot(kind='line')

plt.title('Immigration from Haiti')
plt.ylabel('Number of Immigrants')
plt.xlabel('Years')

# annotate the 2010 Earthquake. 
# syntax: plt.text(x, y, label)
plt.text(2000, 6000, '2010 Earthquake') # see note below

plt.show() 


# Question 2 - Let's compare the number of immigrants from India and China from 1980 to 2013

df_CI = df_can.loc[['India', 'China'], years]
df_CI.head()

df_CI.plot(kind='line')

# Years and countries need to be flipped, i.e. transposed

df_CI = df_CI.transpose()
df_CI.head()

df_CI.index = df_CI.index.map(int) # let's change the index values of df_CI to type integer for plotting
df_CI.plot(kind='line')

plt.title('Immigrants from China and India')
plt.ylabel('Number of Immigrants')
plt.xlabel('Years')

plt.show()


# Question 3 - Compare the trend of top 5 countries that contributed the most to immigration to Canada

# Step 1: Get the dataset. Recall that we created a Total column that calculates the cumulative immigration by country. 
#         We will sort on this column to get our top 5 countries using pandas sort_values() method.
df_can.sort_values(by='Total', ascending=False, axis=0, inplace=True)

# get the top 5 entries
df_top5 = df_can.head(5)

# transpose the dataframe
df_top5 = df_top5[years].transpose() 

print(df_top5)

# Step 2: Plot the dataframe. To make the plot more readeable, we will change the size using the `figsize` parameter.
df_top5.index = df_top5.index.map(int) # let's change the index values of df_top5 to type integer for plotting
df_top5.plot(kind='line', figsize=(14, 8)) # pass a tuple (x, y) size

plt.title('Immigration Trend of Top 5 Countries')
plt.ylabel('Number of Immigrants')
plt.xlabel('Years')

plt.show()



# Other Plot Types Include

# bar for vertical bar plots
# barh for horizontal bar plots
# hist for histogram
# box for boxplot
# kde or density for density plots
# area for area plots
# pie for pie plots
# scatter for scatter plots
# hexbin for hexbin plot



