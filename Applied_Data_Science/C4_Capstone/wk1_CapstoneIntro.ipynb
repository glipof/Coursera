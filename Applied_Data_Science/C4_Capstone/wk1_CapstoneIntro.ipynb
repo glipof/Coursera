
# Capstone Introduction

# About this file

<h2>Readme Markdown</h2>

This file is for the Capstone Project. It's intent is to do the following:

<ol>
<li> Document project as it evolves.</li>
<li> Import libraries as needed.</li>
<li> Call out APIs for location data use.</li>
<li> Conduct analysis of neighborhoods in Toronto.</li> 
</ol>


# Import pandas and numpy libraries

import pandas as pd # primary data structure library
import numpy as np  # useful for many scientific computing


# Print hello statement

print('Hello Capstone Project Course!')