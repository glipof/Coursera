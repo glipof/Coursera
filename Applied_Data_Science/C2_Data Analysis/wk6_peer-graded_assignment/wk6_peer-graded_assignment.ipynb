### Data Analysis with Python - Week 6 Peer Graded Assignment

# House sales analysis for King County, WA


# Import libraries

import pandas as pd
import numpy as np
import seaborn as sns
import matplotlib.pyplot as plt

# Import scikit-learn for model fitting, predicting and cross validation

from sklearn.pipeline import Pipeline
from sklearn.preprocessing import StandardScaler,PolynomialFeatures
from sklearn.linear_model import Ridge
from sklearn.model_selection import cross_val_score
from sklearn.model_selection import train_test_split
from sklearn.linear_model import LinearRegression

%matplotlib inline

# Retrieve King County House Data CSV and Load into Dataframe

filename = "https://s3-api.us-geo.objectstorage.softlayer.net/cf-courses-data/CognitiveClass/DA0101EN/coursera/project/kc_house_data_NaN.csv"
df = pd.read_csv(filename)

df.head()


# Question 1) Display data types of each column using the attribute dtype, 
# then take a screenshot and submit it, include your code in the image.

print(df.dtypes)


# Question 2) Drop the columns "id" and "Unnamed: 0" from axis 1 using the method drop(), 
# then use the method describe() to obtain a statistical summary of the data. 
# Take a screenshot and submit it, make sure the inplace parameter is set to True.

df.drop(['id','Unnamed: 0'], axis=1, inplace=True)

df.describe()


# Question 3) use the method value_counts to count the number of houses with unique floor values, 
# use the method .to_frame() to convert it to a dataframe. 

df_floor_summary = df['floors'].value_counts().to_frame()
print(df_floor_summary)


# Question 4) use the function boxplot in the seaborn library to produce a plot 
# that can be used to determine whether houses with a waterfront view or 
# without a waterfront view have more price outliers.

sns.boxplot(df['waterfront'],df['price'])


# Question 5) Use the function regplot in the seaborn library to determine 
# if the feature sqft_above is negatively or positively correlated with price.

sns.regplot(x='sqft_above', y='price',data=df)
plt.ylim(0,)


# Question 6) Fit a linear regression model to predict the price using 
# the feature 'sqft_living' then calculate the R^2.

X = df[['sqft_living']]
Y = df['price']
lm = LinearRegression()
lm.fit(X,Y)
lm.score(X, Y)


# Question 7) Fit a linear regression model to predict the 'price' using 
# the list of features. Calculate the R^2.

# Correct 'ValueError: Input contains NaN' when fitting/ scoring, 
# by replacing NaN entries with column mean 
mean = df['bedrooms'].mean()
df['bedrooms'].replace(np.nan, mean, inplace=True)
mean = df['bathrooms'].mean()
df['bathrooms'].replace(np.nan,mean, inplace=True)

features = ["floors","waterfront","lat","bedrooms","sqft_basement","view","bathrooms","sqft_living15","sqft_above","grade","sqft_living"]    
X = df[features]
Y = df['price']
lm2 = LinearRegression()
lm2.fit(X,Y)
lm2.score(X, Y)


# Question 8) Create a pipeline object that scales the data performs a polynomial transform 
# and fits a linear regression model. Fit the object using the features in the question above, 
# then fit the model and calculate the R^2.

Input = [('scale', StandardScaler()), ('polynomial', PolynomialFeatures(include_bias=False)), ('model', LinearRegression())]
pipe = Pipeline(Input) 
pipe.fit(X,Y)
pipe.score(X,Y)


# Question 9) Create and fit a Ridge regression object using the training data, 
# setting the regularization parameter to 0.1 and calculate the R^2 using the test data.

# Split data into training and testing sets
x_train, x_test, y_train, y_test = train_test_split(X, Y, test_size=0.15, random_state=1)
print("number of test samples :", x_test.shape[0])
print("number of training samples:", x_train.shape[0])        

# Ridge regression and R^2
RidgeModel = Ridge(alpha=0.1)
RidgeModel.fit(x_train, y_train)
RidgeModel.score(x_test, y_test)


# Question 10) Perform a second order polynomial transform on both the training data and testing data. 
# Create and fit a Ridge regression object using the training data, setting the regularisation parameter to 0.1. 
# Calculate the R^2 utilising the test data provided.

# Second order polynomial transformation on training and test data
pf = PolynomialFeatures(degree=2)
x_train_pf = pf.fit_transform(x_train)
x_test_pf = pf.fit_transform(x_test)

# Ridge regression and R^2
rig = Ridge(alpha=0.1)
rig.fit(x_train_pf, y_train)
rig.score(x_test_pf, y_test)