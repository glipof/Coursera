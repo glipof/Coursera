
### Exploratory Data Analysis



import pandas as pd 		# see http://pandas.pydata.org

# Read the online file by the URL provides above, and assign it to variable "df"
other_path = "https://s3-api.us-geo.objectstorage.softlayer.net/cf-courses-data/CognitiveClass/DA0101EN/auto.csv"
df = pd.read_csv(other_path, header=None)


## Descriptive Statistics

df.describe()		# Basic Statistics of DF

# Create new df based on value_counts
drive_wheels_counts = df["drive-wheels"].value_counts()	
drive_wheels_counts.rename(columns = {'drive-wheels':'value_counts'} inplace=True)
drive_wheels_counts.index.name = 'drive-wheels'

# Box Plots (quartiles w/ extremes and outliers)
sns.boxplot (x = "drive-wheels", y = "price", data=df)

# Scatter Plots (Predictor/ Independent = X Axis, Target/ Dependent = Y Axis)
x = df["engine-size"]
y = df["price"]
plt.scatter(x,y)

plt.title("Scatter of Engine Size vs Price")
plt.xlabel("Engine Size")
plt.ylabel("Price")


## GroupBy

df_test = df[['drive-wheels', 'body-style', 'price']]
df_grp = df_test.groupby(['drive-wheels', 'body-style'], as_index=False).mean()
df_grp

# Create table w/ drive wheels as left column as row index and body style across columns
df_pivot = df_grp.pivot(index = 'drive-wheels', columns = 'body-style')

# Heat Map
plt.pcolor(df_pivot, cmap = 'RdBu')
plt.colorbar()
plt.show()


## Correlation (extent different variables are interdependent)

# Positive linear relationship = Strong
sns.regplot(x = "engine-size", y = "price", data = df)
plt.ylim(0, )

# Negative linear relationship = Strong
sns.regplot(x = "highway-mpg", y = "price", data = df)
plt.ylim(0, )

# Negative linear relationship = Weak
sns.regplot(x = "peak-rpm", y = "price", data = df)
plt.ylim(0, )


## Correlation Statistical Methods

# Pearson Correlation Method (Correlation Coefficient and P-Value (degree confidence))
pearson_coef, p_value = stats.pearsonr(df['horsepower'], df['price'])


# Analysis of Varriance (ANOVA, Statistical comparison of groups, F-test and P-Value)
df_anova = df [["make", "price"]]
grouped_anova = df_anova.groupby(["make"])
anova_results_1 = stats.f_oneway(grouped_anova.get_group("honda")["price"], grouped_anova.get_group("subaru")["price"])


### Lab

import pandas as pd
import numpy as np

path='https://s3-api.us-geo.objectstorage.softlayer.net/cf-courses-data/CognitiveClass/DA0101EN/automobileEDA.csv'
df = pd.read_csv(path)
df.head()

# Analyze Individual Feature Patterns

%%capture
! pip install seaborn

import matplotlib.pyplot as plt
import seaborn as sns
%matplotlib inline 

# list the data types for each column and correlation
print(df.dtypes)
df.corr()

# Find the correlation between the following columns: bore, stroke,compression-ratio , and horsepower
df[['bore', 'stroke', 'compression-ratio', 'horsepower']].corr()  

# Continuous Numerical Variables

# Engine size as potential predictor variable of price
sns.regplot(x="engine-size", y="price", data=df)
plt.ylim(0,)
df[["engine-size", "price"]].corr()

sns.regplot(x="highway-mpg", y="price", data=df)	# Strong Linear Relationship
df[['highway-mpg', 'price']].corr()

sns.regplot(x="peak-rpm", y="price", data=df)		# Weak Linear Relationship
df[['peak-rpm','price']].corr()














