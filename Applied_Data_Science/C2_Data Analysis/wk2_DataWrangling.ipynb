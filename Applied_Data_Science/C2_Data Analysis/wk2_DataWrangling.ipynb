
### Data Wrangling


## Missing Values, Data Formatting, Normalization, Binning and Categorical Variables

import pandas as pd 		# see http://pandas.pydata.org

# Missing Values (Check Source, Drop Variable, Drop Entry, Replace Value)

# Read the online file by the URL provides above, and assign it to variable "df"
other_path = "https://s3-api.us-geo.objectstorage.softlayer.net/cf-courses-data/CognitiveClass/DA0101EN/auto.csv"
df = pd.read_csv(other_path, header=None)

# Remove rows with missing values under "price" column
# df.dropna()			# axis equals 0 = Drops entire row; 1 = Drops entire column
df.dropna(subset=["price"], axis=0, inplace = True)	# Need "inplace = True" to change df

# Replace missing values with 
df.replace(np.nan, 162)


# Data Formatting (New York as NY, N.Y..., conversion and Data Type Mismatch)

# Conversion from MPG to L/100km
df["city-mpg"] = 235/df["city-mpg"]
df.rename(columns = {"city_mpg" : "city-L/100km"}, inplace = True)

# Correct Data Type / Use df.dtypes() to identify
df["price"] = df["price"].astype("int")


# Data Normalization (Simple Feature Scaling, Min-Max, Z-Score)

# Simple Feature Scaling (0 to 1)
df["length"] = df["length"] / df["length"].max()

# Min-Max
df["length"] = (df["length"]-df["length"].min()) /  (df["length"].max()-df["length"].min())

# Z-Score
df["length"] = (df["length"]-df["length"].mean()) / df["length"].std()


# Binning (Grouping Values, like age or price (low, medium or high))
import numpy as np

bins = np.linspace(min(df["price"]), max(df"price"), 4)
group_names = ["low", "medium", "high"]
df["price-binned"] = pd.cut(df["price"], bins, labels=group_names, include_lowest=True)


# Categorical Conversion to Numbers (Boolean, One Hot Encoding)

pd.get_dummies(df['fuel'])


## Lab

import pandas as pd
import matplotlib.pylab as plt

# Read data set and add related headers
filename = "https://s3-api.us-geo.objectstorage.softlayer.net/cf-courses-data/CognitiveClass/DA0101EN/auto.csv"

headers = ["symboling","normalized-losses","make","fuel-type","aspiration", "num-of-doors","body-style",
         "drive-wheels","engine-location","wheel-base", "length","width","height","curb-weight","engine-type",
         "num-of-cylinders", "engine-size","fuel-system","bore","stroke","compression-ratio","horsepower",
         "peak-rpm","city-mpg","highway-mpg","price"]
         
df = pd.read_csv(filename, names = headers)
df.head()

# Identify and Handle Missing Values

import numpy as np

# replace "?" to NaN
df.replace("?", np.nan, inplace = True)
df.head(5)

# Evaluate for missing data
missing_data = df.isnull()
missing_data.head(5)

# Count missing values for each column
for column in missing_data.columns.values.tolist():
    print(column)
    print (missing_data[column].value_counts())
    print("") 

# Replace missing normalized-losses w/ average value
avg_norm_loss = df["normalized-losses"].astype("float").mean(axis=0)
print("Average of normalized-losses:", avg_norm_loss)
df["normalized-losses"].replace(np.nan, avg_norm_loss, inplace=True)

# Replace missing bore value with average value
avg_bore=df['bore'].astype('float').mean(axis=0)
print("Average of bore:", avg_bore)
df["bore"].replace(np.nan, avg_bore, inplace=True)

# Find value counts for number of doors
df['num-of-doors'].value_counts()


# Correct Column Data Format

# List data types for each column
df.dtypes

# Correct columns from object to float or integer
df[["bore", "stroke"]] = df[["bore", "stroke"]].astype("float")
df[["normalized-losses"]] = df[["normalized-losses"]].astype("int")
df[["price"]] = df[["price"]].astype("float")
df[["peak-rpm"]] = df[["peak-rpm"]].astype("float")


# Data Standardization

# Convert mpg to L/100km by mathematical operation (235 divided by mpg)
df['city-L/100km'] = 235/df["city-mpg"]

# check your transformed data 
df.head()

# The reverse is transform mpg to L/100km by mathematical operation (235 divided by mpg)
df["highway-mpg"] = 235/df["highway-mpg"]

# rename column name from "highway-mpg" to "highway-L/100km"
df.rename(columns={'"highway-mpg"':'highway-L/100km'}, inplace=True)

# check your transformed data 
df.head()


# Data Normalization = replace (original value) by (original value)/(maximum value)
df['length'] = df['length']/df['length'].max()
df['width'] = df['width']/df['width'].max()
df['height'] = df['height']/df['height'].max() 
# show the scaled columns
df[["length","width","height"]].head()


# Binning (Horsepower = Low, Medium and High)

df["horsepower"]=df["horsepower"].astype(int, copy=True)

bins = np.linspace(min(df["horsepower"]), max(df["horsepower"]), 4)
bins

group_names = ['Low', 'Medium', 'High']

df['horsepower-binned'] = pd.cut(df['horsepower'], bins, labels=group_names, include_lowest=True )
df[['horsepower','horsepower-binned']].head(20)
df["horsepower-binned"].value_counts()

# Plot to show distribution
%matplotlib inline
import matplotlib as plt
from matplotlib import pyplot
pyplot.bar(group_names, df["horsepower-binned"].value_counts())

# set x/y labels and plot title
plt.pyplot.xlabel("horsepower")
plt.pyplot.ylabel("count")
plt.pyplot.title("horsepower bins")


# Indicator/ Dummy Variable (For Fuel Type)

dummy_variable_1 = pd.get_dummies(df["fuel-type"])
dummy_variable_1.head()

dummy_variable_1.rename(columns={'fuel-type-diesel':'gas', 'fuel-type-diesel':'diesel'}, inplace=True)
dummy_variable_1.head()






