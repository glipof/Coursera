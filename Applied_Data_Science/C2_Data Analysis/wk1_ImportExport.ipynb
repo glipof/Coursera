
### Importing Datasets (Pandas)


## Data Acquisition (read csv, json, excel, sql...)

import pandas as pd 		# can be named something different than pd

# Read the online file by the URL provides above, and assign it to variable "df"
other_path = "https://s3-api.us-geo.objectstorage.softlayer.net/cf-courses-data/CognitiveClass/DA0101EN/auto.csv"
df = pd.read_csv(other_path, header=None)

# Print 1st 5 rows of dataframe
df.head(5)

# Print last 10 rows of dataframe
df.tail(10)

# Add Headers to dataframe and view
headers = ["symboling","normalized-losses","make","fuel-type","aspiration", "num-of-doors","body-style",
         "drive-wheels","engine-location","wheel-base", "length","width","height","curb-weight","engine-type",
         "num-of-cylinders", "engine-size","fuel-system","bore","stroke","compression-ratio","horsepower",
         "peak-rpm","city-mpg","highway-mpg","price"]
print("headers\n", headers)

df.columns = headers
df.head(10)

# Drop missing values from "price" column
df.dropna(subset=["price"], axis=0)

# Print name of columns from dataframe
print(df.columns)

# View column data types
df.dtypes

# Get statistical summary for each column, use include="all" to include non numerical objects
df.describe()
df.describe(include = "all")

# or do a describe on specific columns as follows:
df[['length', 'compression-ratio']].describe()

# A more verbose output can be via using "info"
df.info


## Save Dataset

# Save as CSV
df.to_csv("automobile.csv", index=False)