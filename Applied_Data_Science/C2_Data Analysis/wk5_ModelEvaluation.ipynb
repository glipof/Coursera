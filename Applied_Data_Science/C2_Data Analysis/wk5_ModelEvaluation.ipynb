
### Model Evaluation and Refinement

import pandas as pd 		# see http://pandas.pydata.org

# Read the online file by the URL provides above, and assign it to variable "df"
other_path = "https://s3-api.us-geo.objectstorage.softlayer.net/cf-courses-data/CognitiveClass/DA0101EN/auto.csv"
df = pd.read_csv(other_path, header=None)


## Splitting Data (Train vs Test)

import sklearn.model_selection import train_test_split

# x_data = features or independent variables
# y_data = dataset target (like df['price'])
# x_train, y_train = parts of available data as training set
# x_test, y_test = parts of available data as testing set
# test_size = percentage of the data for testing (like 30%)

x_train, x_test, y_train, y_test = train_split(x_data, y_data, test_size=0.3, random_state=0)


## Cross Validation

# Split data into X folds and cycle in/ out testing fold throughout training

from sklearn.model_selection import cross_val_score

# First argument is type of model estimator (linear regression, lasso...)
# x_data = predictor variable data, y_data = target variable data
# cv = number of partitions

scores = cross_val_score(lr, x_data, y_data, cv = 3)

np.mean(scores)		# Average results together to estimate sample r-squared


## Cross Validation Prediction

# Provides predicted values supplied by model before r-squared values are calculated

import sklearn.model_selection import cross_val_predict

yhat = cross_val_predict(lr2e, x_data, y_data, cv=3)


## Overfitting, Underfitting & Model Selection

# Use r-squared to determine best fit estimate of polynomial function

Rsqu_test=[]
order = [1,2,3,4]

for n in order:
	pr = PolynomialFeatures(degree=n)
	x_train_pr = pr.fit_transform(x_train[['horsepower']])
	x_test_pr = pr.fit_transform(x_test[['horsepower']])
	lr.fit(x_train_pr, y_train)
	Rsqu_test.append(lr.score(x_test_pr, y_test))


## Ridge Regression (Prevents Overfitting)

from sklearn.linear_model import Ridge

RidgeModel = Ridge(alpha=0.1) 	# May need to play with value to see over/ underfitting
RidgeModel.fit(X,y)

Yhat = RidgeModel.predict(X)


## Grid Search (scan through multiple parameters with few lines of code)

from sklearn.linear_model import Ridge
from sklearn.model_selection import GridSearchCV

parameters1 = [{'alpha':[0.001, 0.1, 1, 10, 100, 1000, 10000]}]
RR = Ridge()

Grid1 = GridSearchCV(RR, parameters1, cv=4)
Grid1.fit(x_data[['horsepower', 'curb-weight', 'engine-size', 'highway-mpg']], y_data)
Grid1.best_estimator_

scores = Grid1.cv_results_
scores['mean_test_score']

# Other = Output is the score for all the different combinations of parameter values

parameters2 = [{'alpha': [0.1, 1, 10, 100, 1000], 'normalize':[True, False]}]
RR = Ridge()

Grid1 = GridSearchCV(RR, parameters2, cv=4)
Grid1.fit(x_data[['horsepower', 'curb-weight', 'engine-size', 'highway-mpg']], y_data)
Grid1.best_estimator_

scores = Grid1.cv_results_

# Print parameter values

from param, mean_val, mean_test inzip(scores['params'], scores['mean_test_score'], scores['mean_test_score']):

	print(param, "R^2 on test data:", mean_val, "R^2 on train data:", mean_test)



## Lab Activities

import pandas as pd
import numpy as np

# Import clean data 
path = 'https://s3-api.us-geo.objectstorage.softlayer.net/cf-courses-data/CognitiveClass/DA0101EN/module_5_auto.csv'
df = pd.read_csv(path)

df.to_csv('module_5_auto.csv')

df=df._get_numeric_data()
df.head()

# Libraries for plotting
%%capture
! pip install ipywidgets

from IPython.display import display
from IPython.html import widgets 
from IPython.display import display
from ipywidgets import interact, interactive, fixed, interact_manual

# Functions for plotting
def DistributionPlot(RedFunction, BlueFunction, RedName, BlueName, Title):
    width = 12
    height = 10
    plt.figure(figsize=(width, height))

    ax1 = sns.distplot(RedFunction, hist=False, color="r", label=RedName)
    ax2 = sns.distplot(BlueFunction, hist=False, color="b", label=BlueName, ax=ax1)

    plt.title(Title)
    plt.xlabel('Price (in dollars)')
    plt.ylabel('Proportion of Cars')

    plt.show()
    plt.close()

def PollyPlot(xtrain, xtest, y_train, y_test, lr,poly_transform):
    width = 12
    height = 10
    plt.figure(figsize=(width, height))
    
    #training data 
    #testing data 
    # lr:  linear regression object 
    #poly_transform:  polynomial transformation object 
 
    xmax=max([xtrain.values.max(), xtest.values.max()])

    xmin=min([xtrain.values.min(), xtest.values.min()])

    x=np.arange(xmin, xmax, 0.1)

    plt.plot(xtrain, y_train, 'ro', label='Training Data')
    plt.plot(xtest, y_test, 'go', label='Test Data')
    plt.plot(x, lr.predict(poly_transform.fit_transform(x.reshape(-1, 1))), label='Predicted Function')
    plt.ylim([-10000, 60000])
    plt.ylabel('Price')
    plt.legend()

# Training and Testing

y_data = df['price']
x_data = df.drop('price',axis=1)

from sklearn.model_selection import train_test_split

x_train, x_test, y_train, y_test = train_test_split(x_data, y_data, test_size=0.15, random_state=1)
print("number of test samples :", x_test.shape[0])
print("number of training samples:",x_train.shape[0])


# Question 1 (Change train_test_split to 40% testing, random_state to zero, how do samples change?)

x_train1, x_test1, y_train1, y_test1 = train_test_split(x_data, y_data, test_size=0.4, random_state=0) 
print("number of test samples :", x_test1.shape[0])
print("number of training samples:",x_train1.shape[0])

# Now apply linear regression model

from sklearn.linear_model import LinearRegression

lre=LinearRegression()

lre.fit(x_train[['horsepower']], y_train)
lre.score(x_test[['horsepower']], y_test)
lre.score(x_train[['horsepower']], y_train)		# R^2 is smaller using test data


# Question 2 (Find R^2 on test data using 90% of data for training)

x_train1, x_test1, y_train1, y_test1 = train_test_split(x_data, y_data, test_size=0.1, random_state=0)
lre.fit(x_train1[['horsepower']],y_train1)
lre.score(x_test1[['horsepower']],y_test1)

# Use Cross Validation Score

from sklearn.model_selection import cross_val_score

Rcross = cross_val_score(lre, x_data[['horsepower']], y_data, cv=4)
Rcross

# Calculate average and standard deviation of estimate
print("The mean of the folds are", Rcross.mean(), "and the standard deviation is" , Rcross.std())

# Use negative square error as a score by setting the scoring metric to neg_mean_squared_error
-1 * cross_val_score(lre,x_data[['horsepower']], y_data,cv=4,scoring='neg_mean_squared_error')


# Question 3 (Calculate average R^2 using two folds, find average R^2 for second fold using horsepower as a feature)

Rc=cross_val_score(lre,x_data[['horsepower']], y_data,cv=2)
Rc.mean()

# Or predict output using cross_val_predict
from sklearn.model_selection import cross_val_predict

yhat = cross_val_predict(lre,x_data[['horsepower']], y_data,cv=4)
yhat[0:5]


# Parts 2 = Overfitting, Underfitting and Model Selection

# Create multiple linear regression objects and train using 'horsepower', 'curb-weight', 'engine-size' and 'highway-mpg' as features
lr = LinearRegression()
lr.fit(x_train[['horsepower', 'curb-weight', 'engine-size', 'highway-mpg']], y_train)

yhat_train = lr.predict(x_train[['horsepower', 'curb-weight', 'engine-size', 'highway-mpg']])
yhat_train[0:5]

yhat_test = lr.predict(x_test[['horsepower', 'curb-weight', 'engine-size', 'highway-mpg']])
yhat_test[0:5]


# Model evaluation using training and testing data separately
import matplotlib.pyplot as plt
%matplotlib inline
import seaborn as sns

# Examine training distribution visually
Title = 'Distribution Plot of Predicted Value Using Training Data vs Training Data Distribution'
DistributionPlot(y_train, yhat_train, "Actual Values (Train)", "Predicted Values (Train)", Title)

# Examine testing distribution visually
Title='Distribution Plot of Predicted Value Using Test Data vs Data Distribution of Test Data'
DistributionPlot(y_test,yhat_test,"Actual Values (Test)","Predicted Values (Test)",Title)


# Try polynomial regression to see if more accurate
from sklearn.preprocessing import PolynomialFeatures

# Overfitting
x_train, x_test, y_train, y_test = train_test_split(x_data, y_data, test_size=0.45, random_state=0)

pr = PolynomialFeatures(degree=5)
x_train_pr = pr.fit_transform(x_train[['horsepower']])
x_test_pr = pr.fit_transform(x_test[['horsepower']])
pr

poly = LinearRegression()
poly.fit(x_train_pr, y_train)

yhat = poly.predict(x_test_pr)
yhat[0:5]

print("Predicted values:", yhat[0:4])
print("True values:", y_test[0:4].values)

PollyPlot(x_train[['horsepower']], x_test[['horsepower']], y_train, y_test, poly,pr)

# Model diverges around 200 horsepower, can use R^2 on test data for different order polynomials



